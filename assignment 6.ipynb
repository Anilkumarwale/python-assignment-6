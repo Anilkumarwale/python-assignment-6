{
 "cells": [
  {
   "cell_type": "markdown",
   "id": "8ddc70a8",
   "metadata": {},
   "source": [
    "1.What are escape characters, and how do you use them?\n",
    "\n",
    "Answer: Backslash '\\' is an escape character which is used for representing the white space charcters like \\n, \\r , \\t."
   ]
  },
  {
   "cell_type": "markdown",
   "id": "f4856249",
   "metadata": {},
   "source": [
    "2.What do the escape characters n and t stand for?\n",
    "\n",
    "Answer: n = New line, t= Tab"
   ]
  },
  {
   "cell_type": "markdown",
   "id": "8bbd55c0",
   "metadata": {},
   "source": [
    "3.What is the way to include backslash characters in a string?\n",
    "\n",
    "Answer: print(\"anil \\t is my name\")"
   ]
  },
  {
   "cell_type": "markdown",
   "id": "51b271ad",
   "metadata": {},
   "source": [
    "4.The string \"Howl's Moving Castle\" is a correct value. Why isn't the single quote character in the word Howl's not escaped a problem?\n",
    "\n",
    "Answer: Because of double quotes."
   ]
  },
  {
   "cell_type": "markdown",
   "id": "979b91ff",
   "metadata": {},
   "source": [
    "5.How do you write a string of newlines if you don't want to use the n character?\n",
    "\n",
    "Answer: print(\"hello\", end=\"\\n\") "
   ]
  },
  {
   "cell_type": "markdown",
   "id": "a78e9f62",
   "metadata": {},
   "source": [
    "6.What are the values of the given expressions?\n",
    "\n",
    "'Hello, world!'[1]     = e\n",
    "                 \n",
    "'Hello, world!'[0:5]   = Hello\n",
    "\n",
    "'Hello, world!'[:5]    = Hello\n",
    "          \n",
    "'Hello, world!'[3:]    = lo, world!\n",
    "\n"
   ]
  },
  {
   "cell_type": "markdown",
   "id": "0f7a22a9",
   "metadata": {},
   "source": [
    "7.What are the values of the following expressions?\n",
    "\n",
    "'Hello'.upper()= HELLO\n",
    "\n",
    "'Hello'.upper().isupper()= True\n",
    "\n",
    "'Hello'.upper().lower()=False\n"
   ]
  },
  {
   "cell_type": "markdown",
   "id": "37aa318a",
   "metadata": {},
   "source": [
    "8. What are the values of the following expressions?\n",
    "\n",
    "'Remember, remember, the fifth of July.'.split() - 'Remember', 'remember', 'the', 'fifth', 'of', 'july'\n",
    "\n",
    "'-'.join('There can only one.'.split()) - 'There-can-only-one'\n",
    "'\n"
   ]
  },
  {
   "cell_type": "markdown",
   "id": "c8f3b90e",
   "metadata": {},
   "source": [
    "9.What are the methods for right-justifying, left-justifying, and centering a string?\n",
    "\n",
    "Answer: rstrip, lstrip, centre"
   ]
  },
  {
   "cell_type": "markdown",
   "id": "ebadd863",
   "metadata": {},
   "source": [
    "10.What is the best way to remove whitespace characters from the start or end?\n",
    "\n",
    "Answer: a = \"hello world\"\n",
    "\n",
    "        a.replace(\"\",\"\")"
   ]
  }
 ],
 "metadata": {
  "kernelspec": {
   "display_name": "Python 3 (ipykernel)",
   "language": "python",
   "name": "python3"
  },
  "language_info": {
   "codemirror_mode": {
    "name": "ipython",
    "version": 3
   },
   "file_extension": ".py",
   "mimetype": "text/x-python",
   "name": "python",
   "nbconvert_exporter": "python",
   "pygments_lexer": "ipython3",
   "version": "3.9.7"
  }
 },
 "nbformat": 4,
 "nbformat_minor": 5
}
